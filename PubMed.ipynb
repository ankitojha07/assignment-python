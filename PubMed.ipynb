{
  "nbformat": 4,
  "nbformat_minor": 0,
  "metadata": {
    "colab": {
      "provenance": [],
      "authorship_tag": "ABX9TyNhxQ+bvy19326bb6vltfiW",
      "include_colab_link": true
    },
    "kernelspec": {
      "name": "python3",
      "display_name": "Python 3"
    },
    "language_info": {
      "name": "python"
    }
  },
  "cells": [
    {
      "cell_type": "markdown",
      "metadata": {
        "id": "view-in-github",
        "colab_type": "text"
      },
      "source": [
        "<a href=\"https://colab.research.google.com/github/ankitojha07/assignment-python/blob/main/PubMed.ipynb\" target=\"_parent\"><img src=\"https://colab.research.google.com/assets/colab-badge.svg\" alt=\"Open In Colab\"/></a>"
      ]
    },
    {
      "cell_type": "code",
      "execution_count": null,
      "metadata": {
        "colab": {
          "base_uri": "https://localhost:8080/"
        },
        "id": "NmiEdn14FzDd",
        "outputId": "6b94bdc1-091f-4115-e750-10179a2f0910"
      },
      "outputs": [
        {
          "output_type": "stream",
          "name": "stdout",
          "text": [
            "Requirement already satisfied: pandas in /usr/local/lib/python3.11/dist-packages (2.2.2)\n",
            "Requirement already satisfied: numpy>=1.23.2 in /usr/local/lib/python3.11/dist-packages (from pandas) (1.26.4)\n",
            "Requirement already satisfied: python-dateutil>=2.8.2 in /usr/local/lib/python3.11/dist-packages (from pandas) (2.8.2)\n",
            "Requirement already satisfied: pytz>=2020.1 in /usr/local/lib/python3.11/dist-packages (from pandas) (2025.1)\n",
            "Requirement already satisfied: tzdata>=2022.7 in /usr/local/lib/python3.11/dist-packages (from pandas) (2025.1)\n",
            "Requirement already satisfied: six>=1.5 in /usr/local/lib/python3.11/dist-packages (from python-dateutil>=2.8.2->pandas) (1.17.0)\n"
          ]
        }
      ],
      "source": [
        "pip install pandas"
      ]
    },
    {
      "cell_type": "code",
      "source": [
        "pip install requests"
      ],
      "metadata": {
        "colab": {
          "base_uri": "https://localhost:8080/"
        },
        "id": "pLzdVNYLGYdp",
        "outputId": "f5eb8a2d-fde6-4504-df79-97b8a8363baa"
      },
      "execution_count": null,
      "outputs": [
        {
          "output_type": "stream",
          "name": "stdout",
          "text": [
            "Requirement already satisfied: requests in /usr/local/lib/python3.11/dist-packages (2.32.3)\n",
            "Requirement already satisfied: charset-normalizer<4,>=2 in /usr/local/lib/python3.11/dist-packages (from requests) (3.4.1)\n",
            "Requirement already satisfied: idna<4,>=2.5 in /usr/local/lib/python3.11/dist-packages (from requests) (3.10)\n",
            "Requirement already satisfied: urllib3<3,>=1.21.1 in /usr/local/lib/python3.11/dist-packages (from requests) (2.3.0)\n",
            "Requirement already satisfied: certifi>=2017.4.17 in /usr/local/lib/python3.11/dist-packages (from requests) (2025.1.31)\n"
          ]
        }
      ]
    },
    {
      "cell_type": "code",
      "source": [
        "pip install xmltodict"
      ],
      "metadata": {
        "colab": {
          "base_uri": "https://localhost:8080/"
        },
        "id": "C5-kXK9vGc-Y",
        "outputId": "53d265c8-2f49-4ffc-d23e-50d8aca50189"
      },
      "execution_count": null,
      "outputs": [
        {
          "output_type": "stream",
          "name": "stdout",
          "text": [
            "Collecting xmltodict\n",
            "  Downloading xmltodict-0.14.2-py2.py3-none-any.whl.metadata (8.0 kB)\n",
            "Downloading xmltodict-0.14.2-py2.py3-none-any.whl (10.0 kB)\n",
            "Installing collected packages: xmltodict\n",
            "Successfully installed xmltodict-0.14.2\n"
          ]
        }
      ]
    },
    {
      "cell_type": "code",
      "source": [
        "import requests\n",
        "import csv\n",
        "import re\n",
        "from typing import List, Dict, Optional\n",
        "\n",
        "def fetch_pubmed_papers(query: str) -> List[Dict[str, str]]:\n",
        "    \"\"\"\n",
        "    Fetch research papers from PubMed API based on a user-specified query.\n",
        "    \"\"\"\n",
        "    base_url = \"https://eutils.ncbi.nlm.nih.gov/entrez/eutils/esearch.fcgi\"\n",
        "    params = {\n",
        "        \"db\": \"pubmed\",\n",
        "        \"term\": query,\n",
        "        \"retmode\": \"json\",\n",
        "        \"retmax\": 10,  # Limit results for testing\n",
        "    }\n",
        "    response = requests.get(base_url, params=params)\n",
        "    response.raise_for_status()\n",
        "    data = response.json()\n",
        "    paper_ids = data.get(\"esearchresult\", {}).get(\"idlist\", [])\n",
        "    return get_paper_details(paper_ids)\n",
        "\n",
        "def get_paper_details(paper_ids: List[str]) -> List[Dict[str, str]]:\n",
        "    \"\"\"\n",
        "    Retrieve paper details including title, authors, and affiliations.\n",
        "    \"\"\"\n",
        "    if not paper_ids:\n",
        "        return []\n",
        "\n",
        "    details_url = \"https://eutils.ncbi.nlm.nih.gov/entrez/eutils/esummary.fcgi\"\n",
        "    params = {\n",
        "        \"db\": \"pubmed\",\n",
        "        \"id\": \",\".join(paper_ids),\n",
        "        \"retmode\": \"json\",\n",
        "    }\n",
        "    response = requests.get(details_url, params=params)\n",
        "    response.raise_for_status()\n",
        "    data = response.json()\n",
        "\n",
        "    results = []\n",
        "    for paper_id in paper_ids:\n",
        "        paper_data = data.get(\"result\", {}).get(paper_id, {})\n",
        "        title = paper_data.get(\"title\", \"Unknown\")\n",
        "        pub_date = paper_data.get(\"pubdate\", \"Unknown\")\n",
        "        authors = extract_authors(paper_data.get(\"authors\", []))\n",
        "\n",
        "        results.append({\n",
        "            \"PubmedID\": paper_id,\n",
        "            \"Title\": title,\n",
        "            \"Publication Date\": pub_date,\n",
        "            \"Non-academic Author(s)\": authors[\"non_academic\"],\n",
        "            \"Company Affiliation(s)\": authors[\"companies\"],\n",
        "            \"Corresponding Author Email\": authors[\"email\"]\n",
        "        })\n",
        "\n",
        "    return results\n",
        "\n",
        "def extract_authors(authors_list: List[Dict[str, str]]) -> Dict[str, Optional[str]]:\n",
        "    \"\"\"\n",
        "    Identify non-academic authors and extract company affiliations.\n",
        "    \"\"\"\n",
        "    non_academic_authors = []\n",
        "    company_affiliations = []\n",
        "    corresponding_email = None\n",
        "\n",
        "    for author in authors_list:\n",
        "        name = author.get(\"name\", \"Unknown\")\n",
        "        affiliation = author.get(\"affiliation\", \"\")\n",
        "        email = author.get(\"email\", \"\")\n",
        "\n",
        "        if affiliation and not re.search(r\"university|college|institute\", affiliation, re.I):\n",
        "            non_academic_authors.append(name)\n",
        "            company_affiliations.append(affiliation)\n",
        "\n",
        "        if email and not corresponding_email:\n",
        "            corresponding_email = email\n",
        "\n",
        "    return {\n",
        "        \"non_academic\": \", \".join(non_academic_authors) if non_academic_authors else \"None\",\n",
        "        \"companies\": \", \".join(company_affiliations) if company_affiliations else \"None\",\n",
        "        \"email\": corresponding_email or \"Unknown\"\n",
        "    }\n",
        "\n",
        "def save_to_csv(papers: List[Dict[str, str]], filename: str):\n",
        "    \"\"\"Save the fetched papers to a CSV file.\"\"\"\n",
        "    with open(filename, mode='w', newline='', encoding='utf-8') as file:\n",
        "        writer = csv.DictWriter(file, fieldnames=papers[0].keys())\n",
        "        writer.writeheader()\n",
        "        writer.writerows(papers)\n",
        "\n",
        "def run_colab(query: str, filename: str = \"pubmed_results.csv\"):\n",
        "    \"\"\"Run the script in Google Colab.\"\"\"\n",
        "    papers = fetch_pubmed_papers(query)\n",
        "    save_to_csv(papers, filename)\n",
        "    print(f\"Results saved to {filename}\")\n",
        "    return papers\n",
        "\n",
        "papers = run_colab(\"cancer research\")\n",
        "print(papers)"
      ],
      "metadata": {
        "colab": {
          "base_uri": "https://localhost:8080/"
        },
        "id": "adfJZXB4JIYO",
        "outputId": "502d9fcf-4193-4d07-d4b8-c495e01fc7d4"
      },
      "execution_count": null,
      "outputs": [
        {
          "output_type": "stream",
          "name": "stdout",
          "text": [
            "Results saved to pubmed_results.csv\n",
            "[{'PubmedID': '39955607', 'Title': 'Tumour-derived exosomal miR-205 promotes ovarian cancer cell progression through M2 macrophage polarization via the PI3K/Akt/mTOR pathway.', 'Publication Date': '2025 Feb 15', 'Non-academic Author(s)': 'None', 'Company Affiliation(s)': 'None', 'Corresponding Author Email': 'Unknown'}, {'PubmedID': '39955585', 'Title': 'Mcl-1 downregulation enhances BCG treatment efficacy in bladder cancer by promoting macrophage polarization.', 'Publication Date': '2025 Feb 15', 'Non-academic Author(s)': 'None', 'Company Affiliation(s)': 'None', 'Corresponding Author Email': 'Unknown'}, {'PubmedID': '39955575', 'Title': 'Computational development of mushroom-6-glucan/paclitaxel as a synergistic complementary medicine for breast cancer therapy.', 'Publication Date': '2025 Feb 15', 'Non-academic Author(s)': 'None', 'Company Affiliation(s)': 'None', 'Corresponding Author Email': 'Unknown'}, {'PubmedID': '39955573', 'Title': 'Mechanistic insights of lenvatinib: enhancing cisplatin sensitivity, inducing apoptosis, and suppressing metastasis in bladder cancer cells through EGFR/ERK/P38/NF-κB signaling inactivation.', 'Publication Date': '2025 Feb 15', 'Non-academic Author(s)': 'None', 'Company Affiliation(s)': 'None', 'Corresponding Author Email': 'Unknown'}, {'PubmedID': '39955551', 'Title': 'Potential use of DNA methylation in cervical swabs for early ovarian cancer diagnosis.', 'Publication Date': '2025 Feb 15', 'Non-academic Author(s)': 'None', 'Company Affiliation(s)': 'None', 'Corresponding Author Email': 'Unknown'}, {'PubmedID': '39955550', 'Title': 'Associations of the gut, cervical, and vaginal microbiota with cervical cancer: a systematic review and meta-analysis.', 'Publication Date': '2025 Feb 15', 'Non-academic Author(s)': 'None', 'Company Affiliation(s)': 'None', 'Corresponding Author Email': 'Unknown'}, {'PubmedID': '39955536', 'Title': 'Machine learning-based bulk RNA analysis reveals a prognostic signature of 13 cell death patterns and potential therapeutic target of SMAD3 in acute myeloid leukemia.', 'Publication Date': '2025 Feb 15', 'Non-academic Author(s)': 'None', 'Company Affiliation(s)': 'None', 'Corresponding Author Email': 'Unknown'}, {'PubmedID': '39955530', 'Title': 'Assessing the quality and integrating the evidence and strength of recommendations in the guidelines for gastric precancerous lesions.', 'Publication Date': '2025 Feb 15', 'Non-academic Author(s)': 'None', 'Company Affiliation(s)': 'None', 'Corresponding Author Email': 'Unknown'}, {'PubmedID': '39955522', 'Title': 'Predictive effects of advanced lung cancer inflammation index and serum vitamin D on mortality in patients with asthma.', 'Publication Date': '2025 Feb 15', 'Non-academic Author(s)': 'None', 'Company Affiliation(s)': 'None', 'Corresponding Author Email': 'Unknown'}, {'PubmedID': '39955518', 'Title': 'Urine proteomics-based analysis identifies CHI3L1 as an immune marker and potential therapeutic target for bladder cancer.', 'Publication Date': '2025 Feb 15', 'Non-academic Author(s)': 'None', 'Company Affiliation(s)': 'None', 'Corresponding Author Email': 'Unknown'}]\n"
          ]
        }
      ]
    }
  ]
}